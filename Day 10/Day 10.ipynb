{
 "cells": [
  {
   "cell_type": "code",
   "execution_count": 32,
   "metadata": {
    "scrolled": false
   },
   "outputs": [
    {
     "name": "stdout",
     "output_type": "stream",
     "text": [
      "Error types:  {')': 10, ']': 7, '}': 14, '>': 14}\n",
      "points:  369105\n"
     ]
    }
   ],
   "source": [
    "def bracket_solver(file):\n",
    "    file_contents = file.read().split('\\n')\n",
    "    stack = []\n",
    "    lefties = ['<', '(', '{', '[']\n",
    "    righties = ['>', ')', '}', ']']\n",
    "    lefy_righty_dict = {'>':'<', ')': '(', ']' : '[', '}' : '{'}\n",
    "    \n",
    "    num_of_errors = {\n",
    "    ')': 0,\n",
    "    ']': 0,\n",
    "    '}': 0,\n",
    "    '>' : 0\n",
    "        }\n",
    "    \n",
    "    error_point_dict = {\n",
    "    ')': 3,\n",
    "    ']': 57,\n",
    "    '}': 1197,\n",
    "    '>' : 25137\n",
    "        }\n",
    "    \n",
    "    for row in file_contents:\n",
    "        chars = list(row)\n",
    "        for char in chars:\n",
    "            #print(char)\n",
    "            if char in lefties:\n",
    "                stack.append(char)\n",
    "                #print(\"appended!\")\n",
    "            elif len(stack) != 0:\n",
    "                if char in righties:\n",
    "                    if lefy_righty_dict[char] == stack[-1]:\n",
    "                        stack.pop()\n",
    "                        #print(\"Match\")\n",
    "                    else:\n",
    "                        #print(\"Error!, didnt not expect \" + str(char))\n",
    "                        num_of_errors[char] += 1\n",
    "                        break\n",
    "            else:\n",
    "                #print(\"Error! Stack cannot append a lone righty!\")\n",
    "                num_of_errors[char] += 1\n",
    "                break\n",
    "    print(\"Error types: \", num_of_errors)\n",
    "    points = [error_point_dict[key] * value for key, value in num_of_errors.items()]\n",
    "    print(\"points: \", sum(points))\n",
    "\n",
    "file = open('brackets.txt')\n",
    "bracket_solver(file)\n",
    "file.close()"
   ]
  },
  {
   "cell_type": "code",
   "execution_count": 54,
   "metadata": {},
   "outputs": [
    {
     "name": "stdout",
     "output_type": "stream",
     "text": [
      "['}', '}', ']', ']', ')', '}', ')', ']']\n",
      "[')', '}', '>', ']', '}', ')']\n",
      "[']', '>', ')', ']', ')', '}']\n",
      "['}', '}', '>', '}', '>', ')', ')', ')', ')']\n",
      "[']', '>', ']', ']']\n",
      "[')', '}', ']', '}', ']']\n",
      "[']', ']', '}', '}', ']', '}', ']', '}', '>']\n",
      "['>', ')', '>', ')', '>', ')', '>', ']']\n",
      "[']', ')', ']', ')', '}', '>']\n",
      "[']', ')', '}', '>']\n",
      "[10, 10, 11, 13, 13, 14, 17, 21, 21, 24]\n",
      "14\n"
     ]
    }
   ],
   "source": [
    "def bracket_solver_part2(file):\n",
    "    file_contents = file.read().split('\\n')\n",
    "    stack = []\n",
    "    lefties = ['<', '(', '{', '[']\n",
    "    righties = ['>', ')', '}', ']']\n",
    "    lefy_righty_dict = {'>':'<', ')': '(', ']' : '[', '}' : '{'}\n",
    "    righty_lefty_dict = {'<':'>', '(': ')', '[' : ']', '{' : '}'}\n",
    "    list_of_scores = []\n",
    "\n",
    "\n",
    "    \n",
    "    num_of_autocompletes = {\n",
    "    ')': 0,\n",
    "    ']': 0,\n",
    "    '}': 0,\n",
    "    '>' : 0\n",
    "        }\n",
    "    \n",
    "    auto_complete_point_dict = {\n",
    "    ')': 1,\n",
    "    ']': 2,\n",
    "    '}': 3,\n",
    "    '>' : 4\n",
    "        }\n",
    "    \n",
    "    for row in file_contents:\n",
    "        chars = list(row)\n",
    "        for char in chars:\n",
    "            if char in lefties:\n",
    "                stack.append(char)\n",
    "            elif len(stack) != 0:\n",
    "                if char in righties:\n",
    "                    if lefy_righty_dict[char] == stack[-1]:\n",
    "                        stack.pop()\n",
    "                    else:\n",
    "                        break\n",
    "            else:\n",
    "                break\n",
    "        if len(stack) != 0:\n",
    "            list_of_missing = []\n",
    "            points = 0\n",
    "            while len(stack) > 0:\n",
    "                lone_lefty = stack.pop()\n",
    "                missing_righty = righty_lefty_dict[lone_lefty]\n",
    "                points += \n",
    "                list_of_missing.append(missing_righty)\n",
    "                num_of_autocompletes[missing_righty] += 1\n",
    "                \n",
    "            bob = [key for key, value in num_of_autocompletes.items()]\n",
    "            print(list_of_missing)\n",
    "            points *= 5\n",
    "            points += sum([auto_complete_point_dict[value] for value in list_of_missing])\n",
    "            \n",
    "            \n",
    "            \n",
    "            list_of_scores.append(points)\n",
    "    list_of_scores.sort()\n",
    "    print(list_of_scores)\n",
    "    print(list_of_scores[int(len(list_of_scores)/2)])\n",
    "\n",
    "file = open('brackets_test.txt')\n",
    "bracket_solver_part2(file)\n",
    "file.close()"
   ]
  },
  {
   "cell_type": "raw",
   "metadata": {},
   "source": [
    "So, the last completion string above - ])}> - would be scored as follows:\n",
    "\n",
    "    Start with a total score of 0.\n",
    "    Multiply the total score by 5 to get 0, then add the value of ] (2) to get a new total score of 2.\n",
    "    Multiply the total score by 5 to get 10, then add the value of ) (1) to get a new total score of 11.\n",
    "    Multiply the total score by 5 to get 55, then add the value of } (3) to get a new total score of 58.\n",
    "    Multiply the total score by 5 to get 290, then add the value of > (4) to get a new total score of 294.\n"
   ]
  }
 ],
 "metadata": {
  "kernelspec": {
   "display_name": "Python 3",
   "language": "python",
   "name": "python3"
  },
  "language_info": {
   "codemirror_mode": {
    "name": "ipython",
    "version": 3
   },
   "file_extension": ".py",
   "mimetype": "text/x-python",
   "name": "python",
   "nbconvert_exporter": "python",
   "pygments_lexer": "ipython3",
   "version": "3.7.6"
  }
 },
 "nbformat": 4,
 "nbformat_minor": 4
}
