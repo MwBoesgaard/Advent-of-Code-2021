{
 "cells": [
  {
   "cell_type": "code",
   "execution_count": 32,
   "metadata": {
    "scrolled": false
   },
   "outputs": [
    {
     "name": "stdout",
     "output_type": "stream",
     "text": [
      "Error types:  {')': 10, ']': 7, '}': 14, '>': 14}\n",
      "points:  369105\n"
     ]
    }
   ],
   "source": [
    "def bracket_solver(file):\n",
    "    file_contents = file.read().split('\\n')\n",
    "    stack = []\n",
    "    lefties = ['<', '(', '{', '[']\n",
    "    righties = ['>', ')', '}', ']']\n",
    "    lefy_righty_dict = {'>':'<', ')': '(', ']' : '[', '}' : '{'}\n",
    "    \n",
    "    num_of_errors = {\n",
    "    ')': 0,\n",
    "    ']': 0,\n",
    "    '}': 0,\n",
    "    '>' : 0\n",
    "        }\n",
    "    \n",
    "    error_point_dict = {\n",
    "    ')': 3,\n",
    "    ']': 57,\n",
    "    '}': 1197,\n",
    "    '>' : 25137\n",
    "        }\n",
    "    \n",
    "    for row in file_contents:\n",
    "        chars = list(row)\n",
    "        for char in chars:\n",
    "            #print(char)\n",
    "            if char in lefties:\n",
    "                stack.append(char)\n",
    "                #print(\"appended!\")\n",
    "            elif len(stack) != 0:\n",
    "                if char in righties:\n",
    "                    if lefy_righty_dict[char] == stack[-1]:\n",
    "                        stack.pop()\n",
    "                        #print(\"Match\")\n",
    "                    else:\n",
    "                        #print(\"Error!, didnt not expect \" + str(char))\n",
    "                        num_of_errors[char] += 1\n",
    "                        break\n",
    "            else:\n",
    "                #print(\"Error! Stack cannot append a lone righty!\")\n",
    "                num_of_errors[char] += 1\n",
    "                break\n",
    "    print(\"Error types: \", num_of_errors)\n",
    "    points = [error_point_dict[key] * value for key, value in num_of_errors.items()]\n",
    "    print(\"points: \", sum(points))\n",
    "\n",
    "file = open('brackets.txt')\n",
    "bracket_solver(file)\n",
    "file.close()"
   ]
  }
 ],
 "metadata": {
  "kernelspec": {
   "display_name": "Python 3",
   "language": "python",
   "name": "python3"
  },
  "language_info": {
   "codemirror_mode": {
    "name": "ipython",
    "version": 3
   },
   "file_extension": ".py",
   "mimetype": "text/x-python",
   "name": "python",
   "nbconvert_exporter": "python",
   "pygments_lexer": "ipython3",
   "version": "3.7.6"
  }
 },
 "nbformat": 4,
 "nbformat_minor": 4
}
