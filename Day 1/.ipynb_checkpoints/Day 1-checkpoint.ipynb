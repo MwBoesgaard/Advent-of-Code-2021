{
 "cells": [
  {
   "cell_type": "code",
   "execution_count": null,
   "metadata": {},
   "outputs": [],
   "source": [
    "def sonar_sweep_part1(file):\n",
    "    previous = 0\n",
    "    count = 0\n",
    "    for index, x in enumerate(file):\n",
    "    status = \"N/A - no previous measurement\"\n",
    "    if (index > 0):\n",
    "        if (x > previous):\n",
    "            status = \"increased\"\n",
    "            count += 1\n",
    "        if (x == previous):\n",
    "            status = \"no change\"\n",
    "        if (x < previous):\n",
    "            status = \"decreased\"\n",
    "    previous = x\n",
    "    print(x + \" (\"+status+\")\")\n",
    "    print(\"Result: \"+str(count)) #Should be 1462\n",
    "    \n",
    "    \n",
    "f = open(\"sonar_data.txt\", \"r\")\n",
    "sonar_sweep_part1(f)\n",
    "f.close()"
   ]
  },
  {
   "cell_type": "code",
   "execution_count": null,
   "metadata": {},
   "outputs": [],
   "source": [
    "def sonar_sweep_part2(file):\n",
    "    three_recent_measurements = []\n",
    "    "
   ]
  },
  {
   "cell_type": "code",
   "execution_count": null,
   "metadata": {},
   "outputs": [],
   "source": []
  }
 ],
 "metadata": {
  "kernelspec": {
   "display_name": "Python 3",
   "language": "python",
   "name": "python3"
  },
  "language_info": {
   "codemirror_mode": {
    "name": "ipython",
    "version": 3
   },
   "file_extension": ".py",
   "mimetype": "text/x-python",
   "name": "python",
   "nbconvert_exporter": "python",
   "pygments_lexer": "ipython3",
   "version": "3.7.6"
  }
 },
 "nbformat": 4,
 "nbformat_minor": 4
}
